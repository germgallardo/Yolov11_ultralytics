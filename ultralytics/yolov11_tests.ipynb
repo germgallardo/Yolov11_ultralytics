{
 "cells": [
  {
   "cell_type": "markdown",
   "metadata": {},
   "source": [
    "# Setting Up"
   ]
  },
  {
   "cell_type": "code",
   "execution_count": 2,
   "metadata": {},
   "outputs": [
    {
     "name": "stdout",
     "output_type": "stream",
     "text": [
      " El volumen de la unidad C no tiene etiqueta.\n",
      " El n�mero de serie del volumen es: 5E35-A4EE\n",
      "\n",
      " Directorio de c:\\Users\\germa\\Documents\\Projects\\Yolov11_ultralytics\\ultralytics\n",
      "\n",
      "13/10/2024  13:44    <DIR>          .\n",
      "13/10/2024  13:44    <DIR>          ..\n",
      "13/10/2024  00:26               784 __init__.py\n",
      "13/10/2024  01:31    <DIR>          __pycache__\n",
      "13/10/2024  00:26    <DIR>          assets\n",
      "13/10/2024  01:31    <DIR>          cfg\n",
      "13/10/2024  01:31    <DIR>          data\n",
      "13/10/2024  01:42    <DIR>          datasets\n",
      "13/10/2024  01:31    <DIR>          engine\n",
      "13/10/2024  01:31    <DIR>          hub\n",
      "13/10/2024  01:31    <DIR>          models\n",
      "13/10/2024  01:31    <DIR>          nn\n",
      "13/10/2024  00:26    <DIR>          solutions\n",
      "13/10/2024  00:26    <DIR>          trackers\n",
      "13/10/2024  01:31    <DIR>          utils\n",
      "13/10/2024  13:38    <DIR>          weights\n",
      "13/10/2024  13:44                 0 yolov11_tests.ipynb\n",
      "               2 archivos            784 bytes\n",
      "              15 dirs  155.372.777.472 bytes libres\n"
     ]
    }
   ],
   "source": [
    "%ls"
   ]
  },
  {
   "cell_type": "code",
   "execution_count": null,
   "metadata": {},
   "outputs": [],
   "source": [
    "%pip install ultralytics"
   ]
  },
  {
   "cell_type": "code",
   "execution_count": null,
   "metadata": {},
   "outputs": [],
   "source": [
    "%pwd"
   ]
  },
  {
   "cell_type": "code",
   "execution_count": null,
   "metadata": {},
   "outputs": [],
   "source": [
    "# Update settings for project directories\n",
    "from ultralytics import settings\n",
    "settings.update({\"datasets_dir\": \"c:\\\\Users\\\\germa\\\\Documents\\\\Projects\\\\Yolov11_ultralytics\\\\ultralytics\\\\datasets\"})\n",
    "settings.update({\"weights_dir\": \"c:\\\\Users\\\\germa\\\\Documents\\\\Projects\\\\Yolov11_ultralytics\\\\ultralytics\\\\weights\"})\n",
    "settings.update({\"runs_dir\": \"c:\\\\Users\\\\germa\\\\Documents\\\\Projects\\\\Yolov11_ultralytics\\\\ultralytics\\\\runs\"})\n",
    "print(settings)"
   ]
  },
  {
   "cell_type": "code",
   "execution_count": null,
   "metadata": {},
   "outputs": [],
   "source": [
    "from ultralytics import YOLO\n",
    "\n",
    "# Load a pretrained YOLO model (recommended for training)\n",
    "model = YOLO(\"yolo11n-seg.pt\")\n",
    "\n",
    "# Train the model using the 'coco8.yaml' dataset for 3 epochs\n",
    "results = model.train(\n",
    "    task=\"segment\",\n",
    "    model=model\n",
    "    data=\"coco8.yaml\",\n",
    "    epochs=5)"
   ]
  }
 ],
 "metadata": {
  "kernelspec": {
   "display_name": ".env",
   "language": "python",
   "name": "python3"
  },
  "language_info": {
   "codemirror_mode": {
    "name": "ipython",
    "version": 3
   },
   "file_extension": ".py",
   "mimetype": "text/x-python",
   "name": "python",
   "nbconvert_exporter": "python",
   "pygments_lexer": "ipython3",
   "version": "3.12.2"
  }
 },
 "nbformat": 4,
 "nbformat_minor": 2
}
