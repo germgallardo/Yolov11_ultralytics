{
 "cells": [
  {
   "cell_type": "markdown",
   "metadata": {},
   "source": [
    "# Setting Up"
   ]
  },
  {
   "cell_type": "code",
   "execution_count": null,
   "metadata": {},
   "outputs": [],
   "source": [
    "%pip install ultralytics"
   ]
  },
  {
   "cell_type": "code",
   "execution_count": null,
   "metadata": {},
   "outputs": [],
   "source": [
    "# Update settings for defining project directories\n",
    "from ultralytics import settings\n",
    "import os\n",
    "\n",
    "HOME = os.getcwd()\n",
    "\n",
    "settings.update({\"datasets_dir\": f\"{HOME}\\\\datasets\"})\n",
    "settings.update({\"weights_dir\": f\"{HOME}\\\\weights\"})\n",
    "settings.update({\"runs_dir\": f\"{HOME}\\\\runs\"})\n",
    "print(settings)"
   ]
  },
  {
   "cell_type": "markdown",
   "metadata": {},
   "source": [
    "# Training a Predefined Model\n",
    "\n",
    "Mandatory steps:\n",
    "- Create weights, datasets and predictions directories inside HOME directory (ultralytics directory)\n",
    "- Download weights from [ultralytics website](https://docs.ultralytics.com/tasks/segment/#models) and leave them inside /ultralytics/weights/\n",
    "- Properly define your dataset and your config.yaml file\n",
    "- Create image and video directories inside /ultralytics/predictions/"
   ]
  },
  {
   "cell_type": "markdown",
   "metadata": {},
   "source": [
    "## Training & Validation"
   ]
  },
  {
   "cell_type": "code",
   "execution_count": null,
   "metadata": {},
   "outputs": [],
   "source": [
    "from ultralytics import YOLO\n",
    "\n",
    "# Load a pretrained YOLO model (recommended for training)\n",
    "model = YOLO(\"yolo11n-seg.pt\")\n",
    "\n",
    "# Train the model using the 'coco8.yaml' dataset for 3 epochs\n",
    "results = model.train(\n",
    "    task=\"segment\",\n",
    "    mode=\"train\",\n",
    "    model=model,\n",
    "    data=f\"{HOME}\\\\datasets\\\\config.yaml\",\n",
    "    epochs=10,\n",
    "    batch=16,\n",
    "    workers=8,\n",
    "    close_mosaic=10,\n",
    "    imgsz=416,\n",
    "    patience=0)"
   ]
  },
  {
   "cell_type": "code",
   "execution_count": null,
   "metadata": {},
   "outputs": [],
   "source": [
    "exp_PATH = f'{HOME}/runs/segment/train10/weights/best.pt'     # Change your model folder!\n",
    "os.path.exists(exp_PATH)"
   ]
  },
  {
   "cell_type": "code",
   "execution_count": null,
   "metadata": {},
   "outputs": [],
   "source": [
    "# Validate the model using the 'coco8.yaml' dataset for 3 epochs\n",
    "results = model.val(\n",
    "    task=\"segment\",\n",
    "    mode=\"val\",\n",
    "    model=exp_PATH,\n",
    "    data=f\"{HOME}/datasets/config.yaml\",\n",
    "    project=f\"{HOME}/runs/segment/train10\",          # Change your project folder!\n",
    "    name=\"validation\")"
   ]
  },
  {
   "cell_type": "markdown",
   "metadata": {},
   "source": [
    "## Prediction"
   ]
  },
  {
   "cell_type": "code",
   "execution_count": 60,
   "metadata": {},
   "outputs": [],
   "source": [
    "# Load your model\n",
    "model = YOLO(f\"{HOME}/runs/segment/train10/weights/best.pt\")"
   ]
  },
  {
   "cell_type": "code",
   "execution_count": null,
   "metadata": {},
   "outputs": [],
   "source": [
    "# Pick up a random test image\n",
    "import random\n",
    "\n",
    "images_directory_path = f\"{HOME}/datasets/split/test/images\"\n",
    "\n",
    "# List all image files in the directory and pick a random image file\n",
    "image_files = [f for f in os.listdir(images_directory_path) if f.endswith(('.png', '.jpg', '.jpeg'))]\n",
    "random_image_file = random.choice(image_files)\n",
    "\n",
    "# Define the full path to the random image\n",
    "random_image_path = os.path.join(images_directory_path, random_image_file)\n",
    "print(random_image_path)"
   ]
  },
  {
   "cell_type": "code",
   "execution_count": null,
   "metadata": {},
   "outputs": [],
   "source": [
    "results = model(f'{random_image_path}')\n",
    "\n",
    "# Process results list\n",
    "for result in results:\n",
    "    boxes = result.boxes  # Boxes object for bounding box outputs\n",
    "    masks = result.masks  # Masks object for segmentation masks outputs\n",
    "    keypoints = result.keypoints  # Keypoints object for pose outputs\n",
    "    probs = result.probs  # Probs object for classification outputs\n",
    "    obb = result.obb  # Oriented boxes object for OBB outputs\n",
    "    result.show()  # display to screen\n",
    "    result.save(filename=f\"{HOME}/predictions/images/{random_image_file}\")  # save to disk"
   ]
  },
  {
   "cell_type": "code",
   "execution_count": null,
   "metadata": {},
   "outputs": [],
   "source": [
    "# Display last predicted image\n",
    "import cv2\n",
    "import matplotlib.pyplot as plt\n",
    "from pathlib import Path\n",
    "%matplotlib inline\n",
    "\n",
    "image_file = f\"{HOME}/predictions/images/{random_image_file}\"\n",
    "\n",
    "# Load the image using OpenCV\n",
    "image = cv2.imread(image_file)\n",
    "\n",
    "# Convert the image from BGR to RGB for display purposes\n",
    "image_rgb = cv2.cvtColor(image, cv2.COLOR_BGR2RGB)\n",
    "\n",
    "# Display the image using matplotlib\n",
    "plt.figure(figsize=(3, 3))\n",
    "plt.imshow(image_rgb)\n",
    "plt.title(f'{random_image_file}')\n",
    "plt.axis('off')\n",
    "plt.show()"
   ]
  },
  {
   "cell_type": "code",
   "execution_count": null,
   "metadata": {},
   "outputs": [],
   "source": []
  }
 ],
 "metadata": {
  "kernelspec": {
   "display_name": ".env",
   "language": "python",
   "name": "python3"
  },
  "language_info": {
   "codemirror_mode": {
    "name": "ipython",
    "version": 3
   },
   "file_extension": ".py",
   "mimetype": "text/x-python",
   "name": "python",
   "nbconvert_exporter": "python",
   "pygments_lexer": "ipython3",
   "version": "3.12.2"
  }
 },
 "nbformat": 4,
 "nbformat_minor": 2
}
